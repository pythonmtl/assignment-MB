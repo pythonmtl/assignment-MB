{
  "cells": [
    {
      "cell_type": "code",
      "execution_count": 5,
      "metadata": {
        "colab": {
          "base_uri": "https://localhost:8080/"
        },
        "id": "kcCeg-kycS0i",
        "outputId": "02be50cd-de75-496e-8f16-ecb46ff20f5e"
      },
      "outputs": [
        {
          "output_type": "stream",
          "name": "stdout",
          "text": [
            "<class 'pandas.core.frame.DataFrame'>\n",
            "RangeIndex: 45315 entries, 0 to 45314\n",
            "Data columns (total 9 columns):\n",
            " #   Column      Non-Null Count  Dtype \n",
            "---  ------      --------------  ----- \n",
            " 0   date        45315 non-null  object\n",
            " 1   home_team   45315 non-null  object\n",
            " 2   away_team   45315 non-null  object\n",
            " 3   home_score  45315 non-null  int64 \n",
            " 4   away_score  45315 non-null  int64 \n",
            " 5   tournament  45315 non-null  object\n",
            " 6   city        45315 non-null  object\n",
            " 7   country     45315 non-null  object\n",
            " 8   neutral     45315 non-null  bool  \n",
            "dtypes: bool(1), int64(2), object(6)\n",
            "memory usage: 2.8+ MB\n"
          ]
        }
      ],
      "source": [
        "import pandas as pd\n",
        "df = pd.read_csv('results.csv')\n",
        "df.info()"
      ]
    },
    {
      "cell_type": "code",
      "execution_count": 6,
      "metadata": {
        "colab": {
          "base_uri": "https://localhost:8080/"
        },
        "id": "Pt1VybYEd00l",
        "outputId": "15fdc56e-6d87-4ab4-b8e7-58fa4f329afb"
      },
      "outputs": [
        {
          "output_type": "stream",
          "name": "stdout",
          "text": [
            "average goals for the home team: 1.7393136930376256\n"
          ]
        }
      ],
      "source": [
        "average_homegoals = df['home_score'].mean()\n",
        "print(\"average goals for the home team:\", average_homegoals)"
      ]
    },
    {
      "cell_type": "code",
      "execution_count": 7,
      "metadata": {
        "colab": {
          "base_uri": "https://localhost:8080/"
        },
        "id": "cnBL1BNzeHkc",
        "outputId": "2addfb85-faa4-4299-e057-1d8bfb5cdc94"
      },
      "outputs": [
        {
          "output_type": "stream",
          "name": "stdout",
          "text": [
            "average goals for the away team: 1.1782412004854905\n"
          ]
        }
      ],
      "source": [
        "average_awaygoals = df['away_score'].mean()\n",
        "print(\"average goals for the away team:\", average_awaygoals)"
      ]
    },
    {
      "cell_type": "code",
      "execution_count": 8,
      "metadata": {
        "colab": {
          "base_uri": "https://localhost:8080/"
        },
        "id": "uq26GFuceWV8",
        "outputId": "aecf8510-0b76-4d75-e1a7-015b673613cd"
      },
      "outputs": [
        {
          "output_type": "stream",
          "name": "stdout",
          "text": [
            "country with the highest home score: United States\n"
          ]
        }
      ],
      "source": [
        "homescoresbycountry = df.groupby('country')['home_score'].sum()\n",
        "highesthomescore = homescoresbycountry.idxmax()\n",
        "print(\"country with the highest home score:\", highesthomescore)"
      ]
    },
    {
      "cell_type": "code",
      "execution_count": 9,
      "metadata": {
        "colab": {
          "base_uri": "https://localhost:8080/"
        },
        "id": "fbH_eEjue8IE",
        "outputId": "26afa136-929a-4e7d-9f0f-5c1a125bd92c"
      },
      "outputs": [
        {
          "output_type": "stream",
          "name": "stdout",
          "text": [
            "the top 3 tournments\n",
            "Friendly                        17773\n",
            "FIFA World Cup qualification     8016\n",
            "UEFA Euro qualification          2815\n",
            "Name: tournament, dtype: int64\n"
          ]
        }
      ],
      "source": [
        "tournamentcounts = df['tournament'].value_counts()\n",
        "toptournaments3 = tournamentcounts.head(3)\n",
        "print(\"the top 3 tournments\")\n",
        "print(toptournaments3)"
      ]
    },
    {
      "cell_type": "code",
      "execution_count": 10,
      "metadata": {
        "colab": {
          "base_uri": "https://localhost:8080/"
        },
        "id": "OAi9UnvHgAoJ",
        "outputId": "100008dd-50ba-4255-a81f-181f3ec58ed8"
      },
      "outputs": [
        {
          "output_type": "stream",
          "name": "stdout",
          "text": [
            "show some rows\n",
            "            date  home_team      away_team  home_score  away_score  \\\n",
            "1311  1930-07-13    Belgium  United States           0           3   \n",
            "1312  1930-07-13     France         Mexico           4           1   \n",
            "1313  1930-07-14     Brazil     Yugoslavia           1           2   \n",
            "1314  1930-07-14       Peru        Romania           1           3   \n",
            "1315  1930-07-15  Argentina         France           1           0   \n",
            "\n",
            "          tournament        city  country  neutral  \n",
            "1311  FIFA World Cup  Montevideo  Uruguay     True  \n",
            "1312  FIFA World Cup  Montevideo  Uruguay     True  \n",
            "1313  FIFA World Cup  Montevideo  Uruguay     True  \n",
            "1314  FIFA World Cup  Montevideo  Uruguay     True  \n",
            "1315  FIFA World Cup  Montevideo  Uruguay     True  \n"
          ]
        }
      ],
      "source": [
        "fifa_df = df[df['tournament'] == 'FIFA World Cup']\n",
        "print(\"show some rows\")\n",
        "print(fifa_df.head())"
      ]
    },
    {
      "cell_type": "code",
      "execution_count": 11,
      "metadata": {
        "colab": {
          "base_uri": "https://localhost:8080/"
        },
        "id": "P73agAjTgKdI",
        "outputId": "055546f5-4524-47f2-cc93-37c88b17e6d8"
      },
      "outputs": [
        {
          "output_type": "stream",
          "name": "stdout",
          "text": [
            "rows from total_score:\n",
            "            date  home_team      away_team  home_score  away_score  \\\n",
            "1311  1930-07-13    Belgium  United States           0           3   \n",
            "1312  1930-07-13     France         Mexico           4           1   \n",
            "1313  1930-07-14     Brazil     Yugoslavia           1           2   \n",
            "1314  1930-07-14       Peru        Romania           1           3   \n",
            "1315  1930-07-15  Argentina         France           1           0   \n",
            "\n",
            "          tournament        city  country  neutral  total_score  \n",
            "1311  FIFA World Cup  Montevideo  Uruguay     True            3  \n",
            "1312  FIFA World Cup  Montevideo  Uruguay     True            5  \n",
            "1313  FIFA World Cup  Montevideo  Uruguay     True            3  \n",
            "1314  FIFA World Cup  Montevideo  Uruguay     True            4  \n",
            "1315  FIFA World Cup  Montevideo  Uruguay     True            1  \n"
          ]
        },
        {
          "output_type": "stream",
          "name": "stderr",
          "text": [
            "<ipython-input-11-2bccc956a8c9>:1: SettingWithCopyWarning: \n",
            "A value is trying to be set on a copy of a slice from a DataFrame.\n",
            "Try using .loc[row_indexer,col_indexer] = value instead\n",
            "\n",
            "See the caveats in the documentation: https://pandas.pydata.org/pandas-docs/stable/user_guide/indexing.html#returning-a-view-versus-a-copy\n",
            "  fifa_df['total_score'] = fifa_df['home_score'] + fifa_df['away_score']\n"
          ]
        }
      ],
      "source": [
        "fifa_df['total_score'] = fifa_df['home_score'] + fifa_df['away_score']\n",
        "print(\"rows from total_score:\")\n",
        "print(fifa_df.head())"
      ]
    },
    {
      "cell_type": "code",
      "execution_count": 12,
      "metadata": {
        "colab": {
          "base_uri": "https://localhost:8080/"
        },
        "id": "VOGmTwzAgYtK",
        "outputId": "a443f864-afaf-4984-b3ad-1d492f94e936"
      },
      "outputs": [
        {
          "output_type": "stream",
          "name": "stdout",
          "text": [
            "highest total country: Brazil\n"
          ]
        }
      ],
      "source": [
        "total_score = fifa_df.groupby('country')['total_score'].sum()\n",
        "highest_country_score = total_score.idxmax()\n",
        "print(\"highest total country:\", highest_country_score)\n"
      ]
    }
  ],
  "metadata": {
    "colab": {
      "provenance": []
    },
    "kernelspec": {
      "display_name": "Python 3",
      "name": "python3"
    },
    "language_info": {
      "codemirror_mode": {
        "name": "ipython",
        "version": 3
      },
      "file_extension": ".py",
      "mimetype": "text/x-python",
      "name": "python",
      "nbconvert_exporter": "python",
      "pygments_lexer": "ipython3",
      "version": "3.12.1"
    }
  },
  "nbformat": 4,
  "nbformat_minor": 0
}